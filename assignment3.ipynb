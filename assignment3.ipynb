{
 "cells": [
  {
   "cell_type": "code",
   "execution_count": 1,
   "id": "b0f82cdc-bc9c-4197-99f4-04d52badbca3",
   "metadata": {},
   "outputs": [],
   "source": [
    "#1. Write a code to reverse a string"
   ]
  },
  {
   "cell_type": "code",
   "execution_count": 11,
   "id": "a200d2ba-2975-49f0-a874-43bbdebd1500",
   "metadata": {},
   "outputs": [
    {
     "data": {
      "text/plain": [
       "'llikswp'"
      ]
     },
     "execution_count": 11,
     "metadata": {},
     "output_type": "execute_result"
    }
   ],
   "source": [
    "i = \"pwskill\"\n",
    "i[::-1]"
   ]
  },
  {
   "cell_type": "code",
   "execution_count": null,
   "id": "b4cdf2d8-4d72-481c-b0c8-a0ebb7038571",
   "metadata": {},
   "outputs": [],
   "source": [
    "#2. Write a code to count the number of vowels in a string"
   ]
  },
  {
   "cell_type": "code",
   "execution_count": 18,
   "id": "42e8300a-7657-48d7-9b89-906203a456a1",
   "metadata": {},
   "outputs": [
    {
     "name": "stdout",
     "output_type": "stream",
     "text": [
      "1\n"
     ]
    }
   ],
   "source": [
    "strn = \"pwskill\"\n",
    "a = [\"a\",\"e\",\"i\",\"o\",\"u\",\"A\",\"E\",\"I\",\"O\",\"U\"]\n",
    "count = 0\n",
    "for i in strn:\n",
    "    if i in a:\n",
    "        count += 1\n",
    "print(count)\n",
    "    \n",
    "        \n",
    "            \n",
    "        \n",
    "     \n",
    "     "
   ]
  },
  {
   "cell_type": "code",
   "execution_count": 19,
   "id": "58accb4b-2c2a-4b52-ae52-33ea951b2bba",
   "metadata": {},
   "outputs": [],
   "source": [
    "#3. Write a code to check if a given string is a palindrome or noT"
   ]
  },
  {
   "cell_type": "code",
   "execution_count": 24,
   "id": "3cc20d62-4367-41a9-84a2-53203cfe6d58",
   "metadata": {},
   "outputs": [
    {
     "name": "stdin",
     "output_type": "stream",
     "text": [
      "enter the string malayalam\n"
     ]
    },
    {
     "name": "stdout",
     "output_type": "stream",
     "text": [
      "yes it is palindrome\n"
     ]
    }
   ],
   "source": [
    "i = input(\"enter the string\")\n",
    "if i == i[::-1]:\n",
    "    print(\"yes it is palindrome\")\n",
    "else:\n",
    "    print(\"not palindrome\")"
   ]
  },
  {
   "cell_type": "code",
   "execution_count": 25,
   "id": "c38b53cf-82da-419f-81b8-39b6355d702c",
   "metadata": {},
   "outputs": [],
   "source": [
    "#4. Write a code to check if two given strings are anagrams of each other"
   ]
  },
  {
   "cell_type": "code",
   "execution_count": 29,
   "id": "11e926f4-1bc0-4036-9836-7e6f7fe4ad49",
   "metadata": {},
   "outputs": [
    {
     "name": "stdout",
     "output_type": "stream",
     "text": [
      "It is an anagrams\n"
     ]
    }
   ],
   "source": [
    "a = \"athul\"\n",
    "b = \"thual\"\n",
    "if sorted(a) == sorted(b):\n",
    "    print(\"It is an anagrams\")\n",
    "else:\n",
    "    print(\"its not\")\n",
    "        "
   ]
  },
  {
   "cell_type": "code",
   "execution_count": null,
   "id": "3aa9e4d5-8501-4238-83ae-e4f167bf9ec7",
   "metadata": {},
   "outputs": [],
   "source": [
    "#5. Write a code to find all occurrences of a given substring within another string"
   ]
  },
  {
   "cell_type": "code",
   "execution_count": 41,
   "id": "12daa818-4c05-4400-b07a-9ffcaf1ca9b1",
   "metadata": {},
   "outputs": [
    {
     "name": "stdout",
     "output_type": "stream",
     "text": [
      "Indices of occurrences: [5, 22, 38]\n"
     ]
    }
   ],
   "source": [
    "def findsubstrings(main_string, sub_string):\n",
    "    s = 0\n",
    "    while True:\n",
    "        s = main_string.find(sub_string)\n",
    "        yield s\n",
    "        s += 1  \n",
    "\n",
    "\n",
    "string = \"This example show how example work as example\"\n",
    "sub_string = \"example\"\n",
    "index = list(find_all_substrings(string, sub_string))\n",
    "print(\"Indices of occurrences:\", index)\n"
   ]
  },
  {
   "cell_type": "code",
   "execution_count": 1,
   "id": "27ea5794-5b19-4de6-bf04-52405f9eeab5",
   "metadata": {},
   "outputs": [],
   "source": [
    "#6 .Write a code to perform basic string compression using the counts of repeated character"
   ]
  },
  {
   "cell_type": "code",
   "execution_count": 52,
   "id": "ea84f304-23f7-45ce-917e-5bc04d727d2d",
   "metadata": {},
   "outputs": [],
   "source": [
    "def string_compression():\n",
    "    string = input(\"Enter the string\")\n",
    "    ch = string[0]\n",
    "    result = \"\"\n",
    "    count = 0\n",
    "    string = string + \" \"\n",
    "    for i in string:\n",
    "        if i == ch:\n",
    "            count += 1\n",
    "        else:\n",
    "            result = result + str(count) + str(ch)\n",
    "            ch = i\n",
    "            count = 1\n",
    "    return result"
   ]
  },
  {
   "cell_type": "code",
   "execution_count": 53,
   "id": "b56d7e1f-3368-420f-9460-6836e17290dd",
   "metadata": {},
   "outputs": [
    {
     "name": "stdin",
     "output_type": "stream",
     "text": [
      "Enter the string aaasssdddff\n"
     ]
    },
    {
     "data": {
      "text/plain": [
       "'3a3s3d'"
      ]
     },
     "execution_count": 53,
     "metadata": {},
     "output_type": "execute_result"
    }
   ],
   "source": [
    "string_compression()"
   ]
  },
  {
   "cell_type": "code",
   "execution_count": 14,
   "id": "742cb3c2-56fd-444a-b95e-650156670e50",
   "metadata": {},
   "outputs": [],
   "source": [
    "#7 .Write a code to determine if a string has all unique character"
   ]
  },
  {
   "cell_type": "code",
   "execution_count": 26,
   "id": "7eed7046-055f-42ee-9118-d76431f1266d",
   "metadata": {},
   "outputs": [
    {
     "name": "stdin",
     "output_type": "stream",
     "text": [
      "enter the string asdf\n"
     ]
    },
    {
     "name": "stdout",
     "output_type": "stream",
     "text": [
      "The string has unique character\n"
     ]
    }
   ],
   "source": [
    "\n",
    "i = input(\"enter the string\")\n",
    "a = set(i)\n",
    "y = sorted(list(a))\n",
    "x = sorted(list(i))\n",
    "\n",
    "if x == y:\n",
    "    print(\"The string has unique character\")\n",
    "else:\n",
    "    print(\"String is not unique character\")"
   ]
  },
  {
   "cell_type": "code",
   "execution_count": 185,
   "id": "160f313c-69c1-455c-90f5-1ef1ce484aa2",
   "metadata": {},
   "outputs": [],
   "source": [
    "#8 .Write a code to convert a given string to uppercase or lowercase"
   ]
  },
  {
   "cell_type": "code",
   "execution_count": 188,
   "id": "14e844ea-37d2-4570-b312-847ce0272a50",
   "metadata": {},
   "outputs": [],
   "source": [
    "def convert(strn):\n",
    "    return strn.upper()"
   ]
  },
  {
   "cell_type": "code",
   "execution_count": 189,
   "id": "ba1ea382-dd6e-4b4c-a8ee-17aa564d7370",
   "metadata": {},
   "outputs": [
    {
     "data": {
      "text/plain": [
       "'ASDSFMS'"
      ]
     },
     "execution_count": 189,
     "metadata": {},
     "output_type": "execute_result"
    }
   ],
   "source": [
    "convert(\"asdsfms\")"
   ]
  },
  {
   "cell_type": "code",
   "execution_count": 190,
   "id": "f1793a6d-84c0-4338-a122-44a5dc090179",
   "metadata": {},
   "outputs": [],
   "source": [
    "#9 .Write a code to count the number of words in a string"
   ]
  },
  {
   "cell_type": "code",
   "execution_count": 204,
   "id": "2c7ec53b-d34d-4479-a66d-76287d4d7f7a",
   "metadata": {},
   "outputs": [],
   "source": [
    "def counting(strn):\n",
    "    return (strn.count(\"\"))-1"
   ]
  },
  {
   "cell_type": "code",
   "execution_count": 205,
   "id": "1aaf4f77-ad13-46f3-a21e-d542559a3e11",
   "metadata": {},
   "outputs": [
    {
     "data": {
      "text/plain": [
       "11"
      ]
     },
     "execution_count": 205,
     "metadata": {},
     "output_type": "execute_result"
    }
   ],
   "source": [
    "counting(\"hello world\")"
   ]
  },
  {
   "cell_type": "code",
   "execution_count": 206,
   "id": "e0ac16b5-3a72-4e26-bd69-34fe4b941e73",
   "metadata": {},
   "outputs": [],
   "source": [
    "#10.Write a code to concatenate two strings without using the + operator"
   ]
  },
  {
   "cell_type": "code",
   "execution_count": 207,
   "id": "94693af2-6552-4b7b-87c3-b8a1d2fa48a5",
   "metadata": {},
   "outputs": [],
   "source": [
    "def concatinate(x,y):\n",
    "    return x.__add__(y)"
   ]
  },
  {
   "cell_type": "code",
   "execution_count": 208,
   "id": "dacb25d8-f7c4-4e27-9964-7fd2fc8e4b61",
   "metadata": {},
   "outputs": [
    {
     "data": {
      "text/plain": [
       "'helloworld'"
      ]
     },
     "execution_count": 208,
     "metadata": {},
     "output_type": "execute_result"
    }
   ],
   "source": [
    "concatinate(\"hello\",\"world\")"
   ]
  },
  {
   "cell_type": "code",
   "execution_count": 3,
   "id": "f355d93b-da91-4603-9de0-d696c57331d1",
   "metadata": {},
   "outputs": [],
   "source": [
    "#11.Write a code to remove all occurrences of a specific element from a list"
   ]
  },
  {
   "cell_type": "code",
   "execution_count": 18,
   "id": "9eaa75d5-bc50-4f68-95fb-eda3aa8e84ff",
   "metadata": {},
   "outputs": [],
   "source": [
    "def remove_spec(x,elmt):\n",
    "    for i in x:\n",
    "        if i == elmt:\n",
    "            x.remove(i)\n",
    "    return x\n",
    "              "
   ]
  },
  {
   "cell_type": "code",
   "execution_count": 19,
   "id": "955b37f2-bb60-4d8f-aaf4-c3fd30a476f5",
   "metadata": {},
   "outputs": [
    {
     "data": {
      "text/plain": [
       "[2, 3, 4]"
      ]
     },
     "execution_count": 19,
     "metadata": {},
     "output_type": "execute_result"
    }
   ],
   "source": [
    "lst = [1,2,3,1,4,1]\n",
    "remove_spec(lst,1)"
   ]
  },
  {
   "cell_type": "code",
   "execution_count": 20,
   "id": "a9494518-d083-4df9-b443-e1da5285c56c",
   "metadata": {},
   "outputs": [],
   "source": [
    "#12.Implement a code to find the second largest number in a given list of integers"
   ]
  },
  {
   "cell_type": "code",
   "execution_count": 34,
   "id": "07fd2683-4a30-4986-a0fe-b682c50565e0",
   "metadata": {},
   "outputs": [],
   "source": [
    "def largest(lst):\n",
    "    lst.sort()\n",
    "    return lst[-2]"
   ]
  },
  {
   "cell_type": "code",
   "execution_count": 35,
   "id": "b7046751-33ed-4d2b-a576-23adc199ae18",
   "metadata": {},
   "outputs": [
    {
     "data": {
      "text/plain": [
       "7"
      ]
     },
     "execution_count": 35,
     "metadata": {},
     "output_type": "execute_result"
    }
   ],
   "source": [
    "lst = [1,4,5,7,8,3]\n",
    "largest(lst)"
   ]
  },
  {
   "cell_type": "code",
   "execution_count": 36,
   "id": "e5713887-2896-485a-a885-fad0a44aaacb",
   "metadata": {},
   "outputs": [],
   "source": [
    "#13.Create a code to count the occurrences of each element in a list and return a dictionary with elements as \n",
    "#keys and their counts as values"
   ]
  },
  {
   "cell_type": "code",
   "execution_count": 42,
   "id": "255d9148-f6b1-45c2-b8a5-a0b41455d01e",
   "metadata": {},
   "outputs": [],
   "source": [
    "def count_occurrences(lst):\n",
    "    occurrences_dict = {}\n",
    "    for element in lst:\n",
    "        if element in occurrences_dict:\n",
    "            occurrences_dict[element] += 1\n",
    "        else:\n",
    "            occurrences_dict[element] = 1\n",
    "    return occurrences_dict\n",
    "\n",
    "\n"
   ]
  },
  {
   "cell_type": "code",
   "execution_count": 43,
   "id": "e86b5baf-7ea7-4ac9-9022-2e14bebe9c13",
   "metadata": {},
   "outputs": [
    {
     "data": {
      "text/plain": [
       "{1: 1, 2: 2, 3: 1, 4: 3, 5: 1}"
      ]
     },
     "execution_count": 43,
     "metadata": {},
     "output_type": "execute_result"
    }
   ],
   "source": [
    "input_list = [1, 2, 2, 3, 4, 4, 4, 5]\n",
    "count_occurrences(input_list)"
   ]
  },
  {
   "cell_type": "code",
   "execution_count": 45,
   "id": "630e1a52-b75b-4273-b2c1-c27314184deb",
   "metadata": {},
   "outputs": [],
   "source": [
    "# 14.Write a code to reverse a list in-place without using any built-in reverse functions"
   ]
  },
  {
   "cell_type": "code",
   "execution_count": 46,
   "id": "abe16221-0922-4b63-b16b-5517a47510e8",
   "metadata": {},
   "outputs": [
    {
     "data": {
      "text/plain": [
       "[9, 6, 4, 3, 2, 1]"
      ]
     },
     "execution_count": 46,
     "metadata": {},
     "output_type": "execute_result"
    }
   ],
   "source": [
    "lis = [1,2,3,4,6,9]\n",
    "lis[::-1]"
   ]
  },
  {
   "cell_type": "code",
   "execution_count": 48,
   "id": "2ed5c2cb-0dc9-48ee-b660-f97063bb237e",
   "metadata": {},
   "outputs": [],
   "source": [
    "# 15. Implement a code to find and remove duplicates from a list while preserving the original order of element"
   ]
  },
  {
   "cell_type": "code",
   "execution_count": 50,
   "id": "2d0641eb-4b93-4e4e-b734-574706574fad",
   "metadata": {},
   "outputs": [],
   "source": [
    "def rem_dupi(x):\n",
    "    result = []\n",
    "    seen = set()\n",
    "    for i in x:\n",
    "        if i not in seen:\n",
    "            result.append(i)\n",
    "            seen.add(i)\n",
    "    return result\n",
    "        \n"
   ]
  },
  {
   "cell_type": "code",
   "execution_count": 51,
   "id": "d6d4a3fb-017d-410d-90c6-99963780952d",
   "metadata": {},
   "outputs": [
    {
     "data": {
      "text/plain": [
       "[1, 2, 3, 4, 5]"
      ]
     },
     "execution_count": 51,
     "metadata": {},
     "output_type": "execute_result"
    }
   ],
   "source": [
    "rem_dupi([1,2,1,3,4,5])"
   ]
  },
  {
   "cell_type": "code",
   "execution_count": 78,
   "id": "65477fc0-3ea6-4bff-ad40-71a76a332f78",
   "metadata": {},
   "outputs": [],
   "source": [
    "#16.  Create a code to check if a given list is sorted (either in ascending or descending order) or not"
   ]
  },
  {
   "cell_type": "code",
   "execution_count": 79,
   "id": "95e447fa-f6fa-4a35-ae31-42e8738f85c1",
   "metadata": {},
   "outputs": [],
   "source": [
    "def sort_not(input_list):\n",
    "    asd = sorted(input_list)\n",
    "\n",
    "    dsd = sorted(input_list,reverse = True)\n",
    "    if input_list == asd or input_list == dsd:\n",
    "        print(\"list is sort manner\")\n",
    "    else:\n",
    "        print(\"list is not sort\")\n",
    "    "
   ]
  },
  {
   "cell_type": "code",
   "execution_count": 80,
   "id": "ce601cf2-c211-4154-9383-8df649055b6a",
   "metadata": {},
   "outputs": [
    {
     "name": "stdout",
     "output_type": "stream",
     "text": [
      "list is sort manner\n"
     ]
    }
   ],
   "source": [
    "sort_not([4,3,2,1])"
   ]
  },
  {
   "cell_type": "code",
   "execution_count": null,
   "id": "fd7f9472-f4b9-4679-84ab-e25f08ebf42f",
   "metadata": {},
   "outputs": [],
   "source": [
    "#17. Write a code to merge two sorted lists into a single sorted list"
   ]
  },
  {
   "cell_type": "code",
   "execution_count": 82,
   "id": "f374798a-ce0f-48f6-857f-4116107d88e9",
   "metadata": {},
   "outputs": [],
   "source": [
    "def mrg(l1,l2):\n",
    "    l3 = sorted(l1) + sorted(l2)\n",
    "    return l3"
   ]
  },
  {
   "cell_type": "code",
   "execution_count": 83,
   "id": "f2a56491-62be-4b4b-8811-a9cf95965f10",
   "metadata": {},
   "outputs": [
    {
     "data": {
      "text/plain": [
       "[1, 2, 3, 4, 5, 6, 'a', 'b', 'c', 'd', 'e', 'f']"
      ]
     },
     "execution_count": 83,
     "metadata": {},
     "output_type": "execute_result"
    }
   ],
   "source": [
    "mrg([1,2,4,3,6,5],[\"a\",\"b\",\"d\",\"c\",\"f\",\"e\"])"
   ]
  },
  {
   "cell_type": "code",
   "execution_count": 84,
   "id": "02dd984d-829a-4638-a707-dfc81133ed84",
   "metadata": {},
   "outputs": [],
   "source": [
    "#18  Implement a code to find the intersection of two given lists."
   ]
  },
  {
   "cell_type": "code",
   "execution_count": 91,
   "id": "1e7b654b-432a-4c4d-8f33-76a27a2c3a9c",
   "metadata": {},
   "outputs": [
    {
     "data": {
      "text/plain": [
       "[1, 2, 3, 4, 7, 8]"
      ]
     },
     "execution_count": 91,
     "metadata": {},
     "output_type": "execute_result"
    }
   ],
   "source": [
    "l1 = [1,2,3,5,6,7]\n",
    "l2 = [1,2,3,4,7,8]\n",
    "\n",
    "l3 = l1 and l2\n",
    "l3"
   ]
  },
  {
   "cell_type": "code",
   "execution_count": 92,
   "id": "c826fe0c-81e2-45c5-a43e-ea5b584112a0",
   "metadata": {},
   "outputs": [],
   "source": [
    "#19 Create a code to find the union of two lists without duplicates"
   ]
  },
  {
   "cell_type": "code",
   "execution_count": 94,
   "id": "e682c68d-22bd-4205-8754-40b61c38df39",
   "metadata": {},
   "outputs": [
    {
     "data": {
      "text/plain": [
       "[1, 2, 3, 4, 5, 6, 7, 8]"
      ]
     },
     "execution_count": 94,
     "metadata": {},
     "output_type": "execute_result"
    }
   ],
   "source": [
    "l1 = [1,2,3,5,6,7]\n",
    "l2 = [1,2,3,4,7,8]\n",
    "\n",
    "l3 = set(l1).union(set(l2))\n",
    "list(l3)"
   ]
  },
  {
   "cell_type": "code",
   "execution_count": 95,
   "id": "a2ce53da-fab8-459d-b6b2-86b2b7cc7f9c",
   "metadata": {},
   "outputs": [],
   "source": [
    "#20 Write a code to shuffle a given list randomly without using any built-in shuffle functions"
   ]
  },
  {
   "cell_type": "code",
   "execution_count": 106,
   "id": "06a8a130-b144-49b6-9e3b-3a59280f1091",
   "metadata": {},
   "outputs": [
    {
     "data": {
      "text/plain": [
       "[6, 2, 1, 3, 5, 7]"
      ]
     },
     "execution_count": 106,
     "metadata": {},
     "output_type": "execute_result"
    }
   ],
   "source": [
    "import random\n",
    "l1 = [1,2,3,5,6,7]\n",
    "shuffle = sorted(l1,key =lambda x : random.random())\n",
    "shuffle\n"
   ]
  },
  {
   "cell_type": "code",
   "execution_count": 107,
   "id": "9a5a1334-3dc6-4fef-80bd-0b8456f285a7",
   "metadata": {},
   "outputs": [],
   "source": [
    "#21 Write a code that takes two tuples as input and returns a new tuple containing elements that are common to both input tuples"
   ]
  },
  {
   "cell_type": "code",
   "execution_count": 127,
   "id": "b1aab929-ec82-480c-b52d-f06d02e5ae64",
   "metadata": {},
   "outputs": [],
   "source": [
    "def tupofcomon(x,y):\n",
    "    z = list(x) and list(y)\n",
    "    return tuple(z)\n"
   ]
  },
  {
   "cell_type": "code",
   "execution_count": 128,
   "id": "1564bc34-eb6b-4b5d-8d77-8fccf0ba29be",
   "metadata": {},
   "outputs": [
    {
     "data": {
      "text/plain": [
       "(1, 4, 3, 6)"
      ]
     },
     "execution_count": 128,
     "metadata": {},
     "output_type": "execute_result"
    }
   ],
   "source": [
    "tupofcomon((1,2,3,4),(1,4,3,6))"
   ]
  },
  {
   "cell_type": "code",
   "execution_count": 129,
   "id": "df2488ee-d3bf-4ec4-aa9a-5be389002faa",
   "metadata": {},
   "outputs": [],
   "source": [
    "#22 Create a code that prompts the user to enter two sets of integers separated by commas. Then, print the intersection of these two sets\u0012"
   ]
  },
  {
   "cell_type": "code",
   "execution_count": 3,
   "id": "3010ddc2-6fca-47b0-8fdd-11bc82d2e2ad",
   "metadata": {},
   "outputs": [
    {
     "name": "stdin",
     "output_type": "stream",
     "text": [
      "Enter the set: 12,23,454\n",
      "enter the scn set: 12,45\n"
     ]
    },
    {
     "name": "stdout",
     "output_type": "stream",
     "text": [
      "{'12'}\n"
     ]
    }
   ],
   "source": [
    "input1 = input(\"Enter the set:\")\n",
    "input2 = input(\"enter the scn set:\")\n",
    "x = input1.split(\",\")\n",
    "y = input2.split(\",\")\n",
    "\n",
    "set3 = set(x).intersection(set(y))\n",
    "\n",
    "print(set3)\n",
    "\n",
    "\n"
   ]
  },
  {
   "cell_type": "code",
   "execution_count": null,
   "id": "31f98024-7b72-4345-a5dd-849b089fff77",
   "metadata": {},
   "outputs": [],
   "source": [
    "#23  Write a code to concatenate two tuples. The function should take two tuples as input and return a new tuple containing elements from both input tuples."
   ]
  },
  {
   "cell_type": "code",
   "execution_count": 9,
   "id": "63b2ff3b-b355-4f7f-bd94-26ecd2058466",
   "metadata": {},
   "outputs": [],
   "source": [
    "def contup(x,y):\n",
    "    l1 = list(x)\n",
    "    l2 = list(y)\n",
    "    tup = tuple(l1 + l2)\n",
    "    return tup\n",
    "    \n",
    "    "
   ]
  },
  {
   "cell_type": "code",
   "execution_count": 11,
   "id": "a99286c0-0fca-49af-9268-68d6d137668a",
   "metadata": {},
   "outputs": [
    {
     "data": {
      "text/plain": [
       "(1, 2, 3, 4, 5, 6)"
      ]
     },
     "execution_count": 11,
     "metadata": {},
     "output_type": "execute_result"
    }
   ],
   "source": [
    "contup((1,2,3),(4,5,6))"
   ]
  },
  {
   "cell_type": "code",
   "execution_count": 14,
   "id": "76bafb24-d06f-4370-a7ec-cfc928fd8f51",
   "metadata": {},
   "outputs": [],
   "source": [
    "#24 Develop a code that prompts the user to input two sets of strings. Then, print the elements that are present in the first set but not in the second set&"
   ]
  },
  {
   "cell_type": "code",
   "execution_count": 18,
   "id": "fc0bbce8-b3b8-49e1-b60a-c0a6a18b4b7c",
   "metadata": {},
   "outputs": [
    {
     "name": "stdout",
     "output_type": "stream",
     "text": [
      "{'bb', 'aa'}\n"
     ]
    }
   ],
   "source": [
    "set1 = {\"aa\",\"DD\",\"bb\",\"ee\"}\n",
    "set2 = {\"DD\",\"HH\",\"ee\"}\n",
    "set3 = set1 - set2\n",
    "print(set3)"
   ]
  },
  {
   "cell_type": "code",
   "execution_count": 35,
   "id": "3445009d-b741-4758-81a5-165deb634fbf",
   "metadata": {},
   "outputs": [],
   "source": [
    "#25 Create a code that takes a tuple and two integers as input. The function should return a new tuple containing elements from the original tuple within the specified range of indices&#"
   ]
  },
  {
   "cell_type": "code",
   "execution_count": 31,
   "id": "f8444b2d-6cec-4b77-a20f-6f62a17f6819",
   "metadata": {},
   "outputs": [],
   "source": [
    "tup = (1,2,3,4)\n",
    "x = 5\n",
    "y = 6\n",
    "def tups(tup,x,y):\n",
    "    li = list(tup)\n",
    "    li.append(x)\n",
    "    li.append(y)\n",
    "    tupl = tuple(li)\n",
    "    return tupl\n",
    "\n",
    "    \n",
    "\n",
    "    "
   ]
  },
  {
   "cell_type": "code",
   "execution_count": 33,
   "id": "3e44d571-a744-4d93-90cb-a7d325cfc42c",
   "metadata": {},
   "outputs": [
    {
     "data": {
      "text/plain": [
       "(1, 2, 3, 4, 5, 6)"
      ]
     },
     "execution_count": 33,
     "metadata": {},
     "output_type": "execute_result"
    }
   ],
   "source": [
    "tups(tup,x,y)"
   ]
  },
  {
   "cell_type": "code",
   "execution_count": 39,
   "id": "527631e3-fdbd-405e-8027-4d6fec0d9a49",
   "metadata": {},
   "outputs": [],
   "source": [
    "#26 Write a code that prompts the user to input two sets of characters. Then, print the union of these two sets"
   ]
  },
  {
   "cell_type": "code",
   "execution_count": 41,
   "id": "afa61a35-66e2-4eb3-b52c-5fc796bacd40",
   "metadata": {},
   "outputs": [
    {
     "data": {
      "text/plain": [
       "{'W', 'd', 'e', 'h', 'l', 'o', 'r'}"
      ]
     },
     "execution_count": 41,
     "metadata": {},
     "output_type": "execute_result"
    }
   ],
   "source": [
    "set1 = set(\"hello\")\n",
    "set2 = set(\"World\")\n",
    "Union = set1 | set2\n",
    "Union"
   ]
  },
  {
   "cell_type": "code",
   "execution_count": 48,
   "id": "01a15b71-b6e3-4f31-80d8-e11bc6e0c385",
   "metadata": {},
   "outputs": [],
   "source": [
    "#27  Develop a code that takes a tuple of integers as input. The function should return the maximum and minimum values from the tuple using tuple unpacking`"
   ]
  },
  {
   "cell_type": "code",
   "execution_count": 70,
   "id": "48e9b254-37ff-417c-9fc3-4dd7efee20a1",
   "metadata": {},
   "outputs": [],
   "source": [
    "def max_min(tuple):\n",
    "    return max(tuple),min(tuple)\n",
    "    "
   ]
  },
  {
   "cell_type": "code",
   "execution_count": 72,
   "id": "551c121c-da0a-4f98-866c-3cce70bd44de",
   "metadata": {},
   "outputs": [],
   "source": [
    "max,min = max_min((1,2,3,4,5))\n"
   ]
  },
  {
   "cell_type": "code",
   "execution_count": 74,
   "id": "64b153ff-1cd2-4778-b867-6efa684e1c7f",
   "metadata": {},
   "outputs": [
    {
     "data": {
      "text/plain": [
       "5"
      ]
     },
     "execution_count": 74,
     "metadata": {},
     "output_type": "execute_result"
    }
   ],
   "source": [
    "max"
   ]
  },
  {
   "cell_type": "code",
   "execution_count": 76,
   "id": "dd6ea86b-7fd1-4970-9539-4fe056986583",
   "metadata": {},
   "outputs": [
    {
     "data": {
      "text/plain": [
       "1"
      ]
     },
     "execution_count": 76,
     "metadata": {},
     "output_type": "execute_result"
    }
   ],
   "source": [
    "min"
   ]
  },
  {
   "cell_type": "code",
   "execution_count": 78,
   "id": "bcae1ebe-756a-46e9-b2c1-486adbf2592c",
   "metadata": {},
   "outputs": [],
   "source": [
    "#28  Create a code that defines two sets of integers. Then, print the union, intersection, and difference of these two sets"
   ]
  },
  {
   "cell_type": "code",
   "execution_count": 86,
   "id": "19b4168a-6656-41be-95a2-2100e50d9587",
   "metadata": {},
   "outputs": [
    {
     "name": "stdout",
     "output_type": "stream",
     "text": [
      "Union : {1, 2, 3, 4, 5, 7, 8, 9}\n",
      "Intersection:  {2, 3, 4, 5}\n",
      "Difference:   {1}\n"
     ]
    }
   ],
   "source": [
    "set1 = set([1,2,3,4,5])\n",
    "set2 = set([2,3,4,5,7,8,9])\n",
    "#union\n",
    "print(\"Union :\",set1.union(set2))\n",
    "print(\"Intersection: \",set1&set2)\n",
    "print(\"Difference:  \",set1 - set2)"
   ]
  },
  {
   "cell_type": "code",
   "execution_count": 88,
   "id": "2c379fcb-35ec-4ed6-83d0-23673d0f06df",
   "metadata": {},
   "outputs": [],
   "source": [
    "#29 Write a code that takes a tuple and an element as input. The function should return the count of occurrences of the given element in the tuple"
   ]
  },
  {
   "cell_type": "code",
   "execution_count": 104,
   "id": "a4d87b39-121d-4408-9fbc-664d8c869c2b",
   "metadata": {},
   "outputs": [],
   "source": [
    "tup = (1,2,3,4,5,6)\n",
    "def count_tup(tup):\n",
    "    element = int(input(\"Enter the Number to count:\"))\n",
    "    return tup.count(element)"
   ]
  },
  {
   "cell_type": "code",
   "execution_count": 106,
   "id": "ac08f191-4dee-49fe-90e7-981f7b7a92df",
   "metadata": {},
   "outputs": [
    {
     "name": "stdin",
     "output_type": "stream",
     "text": [
      "Enter the Number to count: 2\n"
     ]
    },
    {
     "data": {
      "text/plain": [
       "1"
      ]
     },
     "execution_count": 106,
     "metadata": {},
     "output_type": "execute_result"
    }
   ],
   "source": [
    "count_tup(tup)"
   ]
  },
  {
   "cell_type": "code",
   "execution_count": 108,
   "id": "9d5ff81c-9af5-4ec6-bcae-ca149ab90858",
   "metadata": {},
   "outputs": [],
   "source": [
    "#30  Develop a code that prompts the user to input two sets of strings. Then, print the symmetric difference of these two sets"
   ]
  },
  {
   "cell_type": "code",
   "execution_count": 112,
   "id": "415caf99-0ec0-4293-bbad-ab075a7e79b4",
   "metadata": {},
   "outputs": [
    {
     "data": {
      "text/plain": [
       "{1, 2, 6, 7, 8}"
      ]
     },
     "execution_count": 112,
     "metadata": {},
     "output_type": "execute_result"
    }
   ],
   "source": [
    "set1 = {1,2,3,4,5}\n",
    "set2 = {3,4,5,6,7,8}\n",
    "set1^set2"
   ]
  },
  {
   "cell_type": "code",
   "execution_count": 115,
   "id": "f200ec1c-a6cb-4130-98e0-5dfcd9947ce0",
   "metadata": {},
   "outputs": [],
   "source": [
    "#31 Write a code that takes a list of words as input and returns a dictionary where the keys are unique words and the values are the frequencies of those words in the input list&"
   ]
  },
  {
   "cell_type": "code",
   "execution_count": 117,
   "id": "68e28b4a-8d93-43b8-8b96-ae88d8e09377",
   "metadata": {},
   "outputs": [],
   "source": [
    "def freq(list):\n",
    "    dect = {}\n",
    "\n",
    "    for element in list:\n",
    "        if element in dect:\n",
    "            dect[element] += 1\n",
    "        else:\n",
    "            dect[element] = 1\n",
    "    return dect\n",
    "    "
   ]
  },
  {
   "cell_type": "code",
   "execution_count": 121,
   "id": "7a79a118-5997-4b8a-8f6c-1f0e45f0709b",
   "metadata": {},
   "outputs": [
    {
     "data": {
      "text/plain": [
       "{'apple': 2, 'orange': 1, 'grapes': 2}"
      ]
     },
     "execution_count": 121,
     "metadata": {},
     "output_type": "execute_result"
    }
   ],
   "source": [
    "freq([\"apple\",\"orange\",\"grapes\",\"apple\",\"grapes\"])"
   ]
  },
  {
   "cell_type": "code",
   "execution_count": 123,
   "id": "2fa10b62-f8b1-41ca-8f3a-4857da1c2789",
   "metadata": {},
   "outputs": [],
   "source": [
    "#32 Write a code that takes two dictionaries as input and merges them into a single dictionary. If there are common keys, the values should be added together"
   ]
  },
  {
   "cell_type": "code",
   "execution_count": 142,
   "id": "729f2d04-4167-4656-b11f-cd408e933cab",
   "metadata": {},
   "outputs": [],
   "source": [
    "def merge_dict(dict1,dict2):\n",
    "    merge_d = dict1.copy()\n",
    "    for key,value in dict2.items():\n",
    "        if key in merge_d:\n",
    "            merge_d[key] += value\n",
    "        else:\n",
    "            merge_d[key] = value\n",
    "    return merge_d\n"
   ]
  },
  {
   "cell_type": "code",
   "execution_count": 146,
   "id": "65071950-c521-4df6-8bbd-e2e921d1ca8b",
   "metadata": {},
   "outputs": [
    {
     "data": {
      "text/plain": [
       "{'a': 4, 'b': 8, 'c': 3, 'd': 4, 'e': 5, 'f': 6}"
      ]
     },
     "execution_count": 146,
     "metadata": {},
     "output_type": "execute_result"
    }
   ],
   "source": [
    "merge_dict(dict1 = {'a':1,'b':2,'c':3,'d':4},dict2 = {'a':3,'b':6,'e':5,'f':6})"
   ]
  },
  {
   "cell_type": "code",
   "execution_count": 148,
   "id": "cad23f9e-7e2e-4598-aeb2-f9ea4b38f133",
   "metadata": {},
   "outputs": [],
   "source": [
    "#33 Write a code to access a value in a nested dictionary. The function should take the dictionary and a list of keys as input, and return the corresponding value. If any of the keys do not exist in the dictionary, the \n",
    " #function should return None"
   ]
  },
  {
   "cell_type": "code",
   "execution_count": 166,
   "id": "fadf8d9c-48df-4452-953a-77d389e66c7a",
   "metadata": {},
   "outputs": [],
   "source": [
    "def dict_list(nested_dict,lis):\n",
    "    current_value = nested_dict\n",
    "    for key in lis:\n",
    "        if key in current_value:\n",
    "            current_value = current_value[key]\n",
    "        else:\n",
    "            return None\n",
    "    return current_value\n"
   ]
  },
  {
   "cell_type": "code",
   "execution_count": 168,
   "id": "34000de5-1803-4f29-82da-f251f853b213",
   "metadata": {},
   "outputs": [
    {
     "data": {
      "text/plain": [
       "42"
      ]
     },
     "execution_count": 168,
     "metadata": {},
     "output_type": "execute_result"
    }
   ],
   "source": [
    "nested = {'a': {'b': {'c': 42,'d': 10},'e': {'f': 200}}}\n",
    "lis =['a','b','c']\n",
    "dict_list(nested,lis)"
   ]
  },
  {
   "cell_type": "code",
   "execution_count": 170,
   "id": "3fed6518-088a-4fce-a3e5-bd17625b61d3",
   "metadata": {},
   "outputs": [],
   "source": [
    "#34 Write a code that takes a dictionary as input and returns a sorted version of it based on the values. You can choose whether to sort in ascending or descending order."
   ]
  },
  {
   "cell_type": "code",
   "execution_count": 218,
   "id": "b541b5d3-8fa4-4dc7-b822-d22fce5cecd6",
   "metadata": {},
   "outputs": [],
   "source": [
    "\n",
    "def sort_dicted(input_dic,ascending = True):\n",
    "    sorted_dict = dict(sorted(input_dic.items(),key = lambda item : item[1],reverse = not ascending))\n",
    "    return sorted_dict"
   ]
  },
  {
   "cell_type": "code",
   "execution_count": 225,
   "id": "0da8c5a3-343a-4e08-8956-63e723619784",
   "metadata": {},
   "outputs": [],
   "source": [
    "dictt = {\"a\":1,\"b\":3,\"c\":2,\"d\":4}\n",
    "sort_dicted(dictt,ascending = True)"
   ]
  },
  {
   "cell_type": "code",
   "execution_count": 227,
   "id": "33112bb1-6150-4b5b-918e-4570c95837b5",
   "metadata": {},
   "outputs": [],
   "source": [
    "#35 Write a code that inverts a dictionary, swapping keys and values. Ensure that the inverted dictionary correctly handles cases where multiple keys have the same value by storing the keys as a list in the \n",
    "#inverted dictionary"
   ]
  },
  {
   "cell_type": "code",
   "execution_count": 234,
   "id": "f0e854fd-2a2e-40e8-9941-1c9dd111025f",
   "metadata": {},
   "outputs": [],
   "source": [
    "def inver_dict(input_dict):\n",
    "    inverted_dic = {}\n",
    "    for key,value in input_dict.items():\n",
    "        if value in inverted_dic:\n",
    "            inverted_dic[value].append(key)\n",
    "        else:\n",
    "            inverted_dic[value] = [key] #key as value in inverted as list form\n",
    "    return inverted_dic\n",
    "\n"
   ]
  },
  {
   "cell_type": "code",
   "execution_count": 236,
   "id": "b06432f6-3f53-4920-b8e5-e9acb4c2089c",
   "metadata": {},
   "outputs": [
    {
     "data": {
      "text/plain": [
       "{1: ['a', 'd'], 2: ['b'], 3: ['c']}"
      ]
     },
     "execution_count": 236,
     "metadata": {},
     "output_type": "execute_result"
    }
   ],
   "source": [
    "dic = {\"a\":1,\"b\":2,\"c\":3,\"d\":1}\n",
    "inver_dict(dic)"
   ]
  },
  {
   "cell_type": "code",
   "execution_count": null,
   "id": "337b0144-7231-4974-b89d-1eb8ea1c936c",
   "metadata": {},
   "outputs": [],
   "source": [
    " "
   ]
  }
 ],
 "metadata": {
  "kernelspec": {
   "display_name": "Python 3 (ipykernel)",
   "language": "python",
   "name": "python3"
  },
  "language_info": {
   "codemirror_mode": {
    "name": "ipython",
    "version": 3
   },
   "file_extension": ".py",
   "mimetype": "text/x-python",
   "name": "python",
   "nbconvert_exporter": "python",
   "pygments_lexer": "ipython3",
   "version": "3.10.8"
  }
 },
 "nbformat": 4,
 "nbformat_minor": 5
}
